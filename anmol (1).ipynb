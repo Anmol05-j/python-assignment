{
 "cells": [
  {
   "cell_type": "markdown",
   "metadata": {},
   "source": [
    "### EXPLANATION\n",
    "In this code, the primary goal is to demonstrate basic arithmetic operations in Python. It allows the user to:\n",
    "Input two numbers using input(), which is then converted to integers using the int() function.\n",
    "Perform addition, subtraction, multiplication, and division using standard arithmetic operators (+, -, *, /).\n",
    "Use the modulus operator % to find the remainder of the division.\n",
    "Use the exponentiation operator ** to raise the first number to the power of the second.\n",
    "Perform floor division using the // operator to divide and round down to the nearest integer.\n",
    "\n",
    "### APPROACH\n",
    "\n",
    "**Input**: The input is taken by the user using the input() function and is converted to integers using the int() function\n",
    "\n",
    "**Operations**: Various arithmetic operations are performed such as addition, subtraction, multiplication, division, modulus, exponentiation, and floor division.\n",
    "\n",
    "**Output**: Each result is printed out, displaying the outcome of each operation.\n",
    "\n",
    "### LEARNING\n",
    "Arithmetic Operators: We learned about basic arithmetic operators in Python, including advanced operators like modulus, exponentiation, and floor division.\n",
    "Taking Inputs: We used the input() function to take user input and the int() function to convert the input to integers for arithmetic operations.\n",
    "\n"
   ]
  },
  {
   "cell_type": "code",
   "execution_count": null,
   "metadata": {},
   "outputs": [],
   "source": [
    "#Exercise 1: Arithmetic Operators. Q.1: Add, Subtract, Multiply, and divide two numbers \n",
    "#1 ADD\n",
    "num1= int(input(\"Enter the first number: \"))    #int function converts the input to nearest integer\n",
    "num2= int(input(\"Enter the second number: \"))\n",
    "\n",
    "#Operations \n",
    "addition = num1 + num2\n",
    "subtraction = num1 - num2\n",
    "multiplication = num1*num2\n",
    "division = num1 / num2 \n",
    "\n",
    "#results\n",
    "print( \"the addition of the entered numbers is:\", addition)\n",
    "print(\"the subtraction of the entered numbers is:\", subtraction)\n",
    "print(\"the multiplication of the entered numbers is:\", multiplication)\n",
    "print(\"the division of the entered numbers is:\", division)\n",
    "\n",
    "#Q.2) Use the modulus operator to find the remainder of their division \n",
    "modulus= num1 % num2\n",
    "print(\"The modulus of the entered numbers is:\", modulus)\n",
    "\n",
    "#Q.3) Use the exponentiation operator to raise the first number to the power of the second number\n",
    "exponentiation = num1**num2\n",
    "print(\"The exponentiation of the entered numbers is:\", exponentiation)\n",
    "\n",
    "#Q.4) Perform the floor division on the two numbers\n",
    "floor_division= num1 // num2\n",
    "print(\"The floor division of the entered numbers is:\", floor_division)\n",
    "\n",
    "#Q.4) Perform the floor division on the two numbers\n",
    "floor_division= num1 // num2\n",
    "print(\"The floor division of the entered numbers is:\", floor_division)"
   ]
  },
  {
   "cell_type": "markdown",
   "metadata": {},
   "source": [
    "### EXPLANATION  \n",
    "In this code, the primary goal is the comparison of two numbers entered by the user. Comparison is determining if the first number is less than, greater than, or equal to the second number. It processes the information interpreted from the input by the user and prints a message giving the output. This is done using the following operators:  \n",
    "- **“<”** is the symbol/operator used to define ‘less than’  \n",
    "- **“>”** is the symbol/operator used to define ‘greater than’  \n",
    "- **“=”** is the symbol/operator used to define “equal to”  \n",
    "\n",
    "### APPROACH  \n",
    "1. **INPUT:** The input is taken by the user using the `input()` function. To ensure the number entered is an integer, the function `int()` is used. It converts data types to integers.  \n",
    "2. **CONDITIONAL STATEMENTS:** Conditional statements are implemented using the fixed assigned variables named: ‘if’, ‘else’, and ‘elif’.  \n",
    "   - In the following code, it first checks whether `number1` is greater than `number2`.  \n",
    "   - If that statement is not true, it jumps to ‘elif’ and checks if the numbers are equal.  \n",
    "   - The last resort is if the first number is less than the second number.  \n",
    "\n",
    "### LEARNING  \n",
    "1. **OPERATORS:** We learned about comparison operators: ‘<’, ‘>’, and ‘=’.  \n",
    "2. **CONDITIONAL STATEMENTS:** This assignment helps in learning about the ‘if-elif’ statements.  \n",
    "3. **LEARNING HOW TO TAKE INPUTS:** We used `input()` and `int()` functions to take input from the user.\n"
   ]
  },
  {
   "cell_type": "code",
   "execution_count": null,
   "metadata": {},
   "outputs": [
    {
     "ename": "",
     "evalue": "",
     "output_type": "error",
     "traceback": [
      "\u001b[1;31mRunning cells with 'Python 3.12.5' requires the ipykernel package.\n",
      "\u001b[1;31mRun the following command to install 'ipykernel' into the Python environment. \n",
      "\u001b[1;31mCommand: '/opt/homebrew/bin/python3 -m pip install ipykernel -U --user --force-reinstall'"
     ]
    }
   ],
   "source": [
    "#Exercise 2, Comparision_Operators \n",
    "num1 = int(input(\"Enter your first number: \"))\n",
    "num2 = int(input(\"Enter your second number: \"))\n",
    "if num1 > num2:\n",
    "    print(\"The first number is greater than the second\")\n",
    "elif num1 == num2:\n",
    "    print(\"The first number is equal to second\")\n",
    "elif num1 <= num2:\n",
    "    print(\"The first number is less than second\")"
   ]
  },
  {
   "cell_type": "markdown",
   "metadata": {},
   "source": [
    "### EXPLANATION\n",
    "In this code, the primary goal is to demonstrate basic logical operations using boolean values in Python. The code allows the user to:\n",
    "Input three boolean values, where case-sensitive inputs (True or False) are handled by converting the input to lowercase and stripping any extra spaces.\n",
    "Perform logical operations using:\n",
    "The AND operator to check if all boolean values are True.\n",
    "The OR operator to check if any of the boolean values is True.\n",
    "The NOT operator to negate each of the boolean values individually.\n",
    "\n",
    "### APPROACH\n",
    "\n",
    "**Input:** \n",
    " The user provides three boolean values, which are processed using input(). The strip().lower() == 'true' logic ensures the inputs are correctly interpreted as booleans.\n",
    "\n",
    "**Operations:**\n",
    " The code performs logical operations:\n",
    "AND checks if all three boolean values are True.\n",
    "OR checks if any of the boolean values is True.\n",
    "NOT negates each individual boolean value.\n",
    "Output: The results of the logical operations are printed for the AND, OR, and NOT operators.\n",
    "\n",
    "### LEARNING\n",
    "**Logical Operators:** \n",
    "We learned how to use basic logical operators in Python:\n",
    "The AND operator returns True if all operands are True.\n",
    "The OR operator returns True if at least one operand is True.\n",
    "The NOT operator inverts the boolean value.\n",
    "**Taking Inputs:** The input() function is used to take user input, and string manipulation functions like strip() and lower() ensure case-insensitive input handling."
   ]
  },
  {
   "cell_type": "code",
   "execution_count": null,
   "metadata": {},
   "outputs": [
    {
     "ename": "",
     "evalue": "",
     "output_type": "error",
     "traceback": [
      "\u001b[1;31mRunning cells with 'Python 3.12.5' requires the ipykernel package.\n",
      "\u001b[1;31mRun the following command to install 'ipykernel' into the Python environment. \n",
      "\u001b[1;31mCommand: '/opt/homebrew/bin/python3 -m pip install ipykernel -U --user --force-reinstall'"
     ]
    }
   ],
   "source": [
    "#Exercise3:\n",
    "boolean1 = input(\"Enter the value of the first boolean (True or False): \").strip().lower() == 'true'   #strip.lower function is used in case-sensitive inputs\n",
    "boolean2 = input(\"Enter the value of the second boolean (True or False): \").strip().lower() == 'true'\n",
    "boolean3 = input(\"Enter the value of the third boolean (True or False): \").strip().lower() == 'true'\n",
    "\n",
    "# Logical operations\n",
    "\n",
    "#logical operations \n",
    "and_operator= boolean1 and boolean2 and boolean3\n",
    "or_operator= boolean1 or boolean2 or boolean3\n",
    "not1_operator= not boolean1\n",
    "not2_operator= not boolean2\n",
    "not3_operator= not boolean3\n",
    "\n",
    "print(\"Result of AND operator of all the three boolean values: \", and_operator)\n",
    "print(\"'Result of OR operator of all the three boolean values: \", or_operator)\n",
    "print(\"Result of NOT operator of the first boolean value: \", not1_operator)\n",
    "print(\"Result of NOT operator of the second boolean value: \", not2_operator)\n",
    "print(\"Result of NOT operator of the third boolean value: \", not3_operator)"
   ]
  },
  {
   "cell_type": "markdown",
   "metadata": {},
   "source": [
    "### EXPLANATION  \n",
    "In this code, the primary goal is to demonstrate basic string manipulation techniques in Python. It allows the user to:  \n",
    "- **Input** a string which is denoted by `input(\"\")`  \n",
    "- **Measure** the length of the string which is denoted by `len(string)`  \n",
    "- **Access** specific characters such as first and last which is denoted by `string[0]` and `string[-1]`  \n",
    "- **Reverse** the string which is denoted by `string[::-1]`  \n",
    "- **Change case** which is denoted by `string.lower()` and `string.upper()`  \n",
    "\n",
    "### APPROACH  \n",
    "**Input:** The input is taken by the user using the `input()` function. To make sure the given input is used as a string, it is labeled as `string`.  \n",
    "**String Manipulation:** String manipulation is used by utilizing different string functions. In the following code, first, it checks that the format for the string is correct and then runs various string manipulation functions.  \n",
    "\n",
    "### LEARNING  \n",
    "**String Manipulation:** We learned about all the different string manipulation functions.  \n",
    "**Taking Inputs:** We used the `input()` function to take input from the user.  \n"
   ]
  },
  {
   "cell_type": "code",
   "execution_count": null,
   "metadata": {},
   "outputs": [
    {
     "ename": "",
     "evalue": "",
     "output_type": "error",
     "traceback": [
      "\u001b[1;31mRunning cells with 'Python 3.12.5' requires the ipykernel package.\n",
      "\u001b[1;31mRun the following command to install 'ipykernel' into the Python environment. \n",
      "\u001b[1;31mCommand: '/opt/homebrew/bin/python3 -m pip install ipykernel -U --user --force-reinstall'"
     ]
    }
   ],
   "source": [
    "#Part2 STRINGS, EXERCISE4: STRING MANIPULATION\n",
    "string = str(input(\"Enter a string: \"))\n",
    "print(\"The length of the string is \", len(string))\n",
    "print(\"First character of the string is: \",string[0])\n",
    "print(\"Last character of the string is: \", string[-1])\n",
    "print(\"The string in reverse order is: \", string[::-1])\n",
    "print(\"The string in uppercase is: \",string.upper())\n",
    "print(\"The string in lowercase is: \", string.lower())"
   ]
  },
  {
   "cell_type": "markdown",
   "metadata": {},
   "source": [
    "### EXPLANATION  \n",
    "In this code, the primary goal is to demonstrate string formatting in Python using f-strings. The code allows the user to:  \n",
    "- **Input** their name and age using the `input()` function.  \n",
    "- **Use** f-string formatting to dynamically insert the user's name and age into a greeting message.  \n",
    "\n",
    "### APPROACH  \n",
    "**Input:** The user is prompted to enter their name and age. The `input()` function is used to gather the name as a string, while the `int()` function is used to convert the age input into an integer.  \n",
    "**String Formatting:** Python’s f-string (formatted string) is used to embed variables directly into a string using the `{}` syntax. The message `\"Hello {Name}, you are {Age} years old\"` dynamically inserts the user’s name and age into the greeting.  \n",
    "**Output:** The formatted greeting is printed out, welcoming the user and confirming their age.  \n",
    "\n",
    "### LEARNING  \n",
    "**String Formatting:** We learned how to use f-strings in Python for efficient and readable string formatting.  \n",
    "**Taking Inputs:** The `input()` function was used to gather user input, and the `int()` function was used to ensure the age is stored as an integer for potential future calculations.  \n"
   ]
  },
  {
   "cell_type": "code",
   "execution_count": null,
   "metadata": {},
   "outputs": [
    {
     "ename": "",
     "evalue": "",
     "output_type": "error",
     "traceback": [
      "\u001b[1;31mRunning cells with 'Python 3.12.5' requires the ipykernel package.\n",
      "\u001b[1;31mRun the following command to install 'ipykernel' into the Python environment. \n",
      "\u001b[1;31mCommand: '/opt/homebrew/bin/python3 -m pip install ipykernel -U --user --force-reinstall'"
     ]
    }
   ],
   "source": [
    "#EXERCISE 5: STRING FORMATTING\n",
    "Name= input(\"Enter your name: \")\n",
    "Age= int(input(\"Enter your age: \"))\n",
    "print(f\"Hello {Name}, you are {Age} years old\") "
   ]
  },
  {
   "cell_type": "markdown",
   "metadata": {},
   "source": [
    "### EXPLANATION  \n",
    "In this code, the primary goal is to allow a user to search for a specific word in a sentence or string, check if it exists, and if it does, provide its position. This can be done by providing inputs to a string and then using the string find function to find the desired word.\n",
    "\n",
    "### APPROACH  \n",
    "**Input:** The input is taken by the user using the `string = input(\"\")` function.  \n",
    "**Input for Desired Word:** This line prompts the user to look for the desired word using the `desired_word = input(\"\")` function.  \n",
    "**Word Search:** This checks if the desired word is in the string or not, and if it is, then the code inside the if block runs.  \n",
    "**Finding Index:** If the word is found, this line uses `index = string.find(desired_word)` to locate it.  \n",
    "**Else:** If the word is not found, the else statement runs.  \n",
    "\n",
    "### LEARNING  \n",
    "**User Input:** We used the `input` function for taking inputs.  \n",
    "**Conditional Statement:** We used if-else statements.  \n",
    "**Finding Substrings:** We used the string find function.\n"
   ]
  },
  {
   "cell_type": "code",
   "execution_count": null,
   "metadata": {},
   "outputs": [
    {
     "ename": "",
     "evalue": "",
     "output_type": "error",
     "traceback": [
      "\u001b[1;31mRunning cells with 'Python 3.12.5' requires the ipykernel package.\n",
      "\u001b[1;31mRun the following command to install 'ipykernel' into the Python environment. \n",
      "\u001b[1;31mCommand: '/opt/homebrew/bin/python3 -m pip install ipykernel -U --user --force-reinstall'"
     ]
    }
   ],
   "source": [
    "#EXERCISE 6 SUBSTRING SEARCH\n",
    "string = input(\"Enter a sentence: \")\n",
    "desired_word = input(\"Enter the word you want to search: \")\n",
    "if desired_word in string:\n",
    "    index = string.find(desired_word)\n",
    "    print(f\"the word {desired_word} is in the sentence at index {index}\")\n",
    "else:\n",
    "    print(f\"the word {desired_word} does not exist in the sentence\")"
   ]
  },
  {
   "cell_type": "markdown",
   "metadata": {},
   "source": [
    "### EXPLANATION  \n",
    "In this code, the primary goal is to demonstrate basic list operations in Python, specifically how to collect and analyze numerical inputs. The code allows the user to:  \n",
    "- **Input** five numbers, which are stored in a list.  \n",
    "- **Calculate** the sum, the greatest number, and the smallest number from the list of inputs.  \n",
    "\n",
    "### APPROACH  \n",
    "**Input:** The user is prompted to enter five numbers. The `for` loop iterates five times, and within each iteration, the `input()` function collects a number, which is then converted to a float and appended to the numbers list.  \n",
    "**List Operations:**  \n",
    "- The sum of the numbers is calculated using the built-in `sum()` function.  \n",
    "- The greatest number is determined using the `max()` function.  \n",
    "- The smallest number is determined using the `min()` function.  \n",
    "**Output:** The results are printed, displaying the greatest and smallest numbers from the list.  \n",
    "\n",
    "### LEARNING  \n",
    "**List Operations:** We learned how to create and manipulate lists in Python, including adding elements to a list and using built-in functions like `sum()`, `max()`, and `min()` for calculations.  \n",
    "**Taking Inputs:** The `input()` function was used to gather user input, and the loop structure allowed for repeated data collection.  \n"
   ]
  },
  {
   "cell_type": "code",
   "execution_count": null,
   "metadata": {},
   "outputs": [
    {
     "ename": "",
     "evalue": "",
     "output_type": "error",
     "traceback": [
      "\u001b[1;31mRunning cells with 'Python 3.12.5' requires the ipykernel package.\n",
      "\u001b[1;31mRun the following command to install 'ipykernel' into the Python environment. \n",
      "\u001b[1;31mCommand: '/opt/homebrew/bin/python3 -m pip install ipykernel -U --user --force-reinstall'"
     ]
    }
   ],
   "source": [
    "#EXERCISE 7 List operations\n",
    "numbers = []\n",
    "for i in range(5):\n",
    "    num= float(input(f\"Enter number {i + 1}: \"))\n",
    "    numbers.append(num)\n",
    "sum = sum(numbers)\n",
    "greatest_number = max(numbers)\n",
    "smallest_number = min(numbers)\n",
    "print(f\"the greatest number out of them all is {greatest_number}\")\n",
    "print(f\"the smallest number of them all is {smallest_number}\")"
   ]
  },
  {
   "cell_type": "markdown",
   "metadata": {},
   "source": [
    "### EXPLANATION  \n",
    "In this code, the primary goal is to demonstrate basic list manipulation operations in Python. The code allows the user to:  \n",
    "- **Create** a list of fruits.  \n",
    "- **Add** an item to the list using `append()`.  \n",
    "- **Remove** an item from the list using the `del` statement.  \n",
    "\n",
    "### APPROACH  \n",
    "**List Creation:** The list `fruits` is initialized with five items: 'apple', 'banana', 'strawberry', 'cranberry', and 'cherry'.  \n",
    "**Appending:** The `append()` function is used to add 'dragonfruit' to the end of the list.  \n",
    "**Deletion:** The `del` statement is used to remove the second item ('banana') from the list.  \n",
    "**Output:** The updated list is printed after each modification, showing the changes made by appending and deleting items.  \n",
    "\n",
    "### LEARNING  \n",
    "**List Manipulation:** We learned how to perform basic list operations like appending new elements to a list and deleting specific elements. These operations allow dynamic modification of lists in Python.  \n"
   ]
  },
  {
   "cell_type": "code",
   "execution_count": null,
   "metadata": {},
   "outputs": [
    {
     "ename": "",
     "evalue": "",
     "output_type": "error",
     "traceback": [
      "\u001b[1;31mRunning cells with 'Python 3.12.5' requires the ipykernel package.\n",
      "\u001b[1;31mRun the following command to install 'ipykernel' into the Python environment. \n",
      "\u001b[1;31mCommand: '/opt/homebrew/bin/python3 -m pip install ipykernel -U --user --force-reinstall'"
     ]
    }
   ],
   "source": [
    "#EXERCISE 8 LIST MANIPULATION\n",
    "fruits = ['apple', 'banana', 'strawberry', 'cranberry', 'cherry']\n",
    "fruits.append('dragonfruit')\n",
    "print(fruits)\n",
    "del fruits [1]\n",
    "print(\"the updated fruit list is\", fruits)\n",
    "\n"
   ]
  },
  {
   "cell_type": "markdown",
   "metadata": {},
   "source": [
    "### EXPLANATION  \n",
    "In this code, the primary goal is to demonstrate how to sort a list of numbers in both ascending and descending order using Python. The code allows the user to:  \n",
    "- **Input** five numbers.  \n",
    "- **Store** these numbers in a list.  \n",
    "- **Sort** the list in ascending and descending order.  \n",
    "\n",
    "### APPROACH  \n",
    "**Input:** The user is prompted to enter five numbers individually. Each number is converted to an integer and stored in the list `number_list`.  \n",
    "**Sorting:**  \n",
    "- The `sorted()` function is used to create a new list `ascending_order`, which contains the numbers sorted in ascending order.  \n",
    "- Another call to `sorted()` with the `reverse=True` parameter creates a new list `descending_order`, which contains the numbers sorted in descending order.  \n",
    "**Output:** The sorted lists are printed, displaying the numbers in both ascending and descending order.  \n",
    "\n",
    "### LEARNING  \n",
    "**List Sorting:** We learned how to use the `sorted()` function to sort lists in Python. This function is versatile, allowing for sorting in both ascending and descending order through the use of the `reverse` parameter.  \n",
    "**Taking Inputs:** The `input()` function was utilized for collecting multiple inputs from the user.  \n"
   ]
  },
  {
   "cell_type": "code",
   "execution_count": null,
   "metadata": {},
   "outputs": [
    {
     "ename": "",
     "evalue": "",
     "output_type": "error",
     "traceback": [
      "\u001b[1;31mRunning cells with 'Python 3.12.5' requires the ipykernel package.\n",
      "\u001b[1;31mRun the following command to install 'ipykernel' into the Python environment. \n",
      "\u001b[1;31mCommand: '/opt/homebrew/bin/python3 -m pip install ipykernel -U --user --force-reinstall'"
     ]
    }
   ],
   "source": [
    "#EXERCISE 9 Sorting a List\n",
    "num1 = int(input(\"enter first number: \"))\n",
    "num2 = int(input(\"enter second number: \"))\n",
    "num3 = int(input(\"enter third number: \"))\n",
    "num4=  int(input(\"enter fourth number: \"))\n",
    "num5 = int(input(\"enter fifth number: \"))\n",
    "number_list = [num1, num2, num3, num4, num5]\n",
    "ascending_order = sorted(number_list)\n",
    "descending_order= sorted(number_list, reverse = True)   \n",
    "print(ascending_order)\n",
    "print(descending_order)"
   ]
  },
  {
   "cell_type": "markdown",
   "metadata": {},
   "source": [
    "### EXPLANATION  \n",
    "In this code, the primary goal is to demonstrate list slicing techniques in Python. The code allows the user to:  \n",
    "- **Create** a list of string representations of numbers.  \n",
    "- **Access** specific segments of the list using slicing.  \n",
    "\n",
    "### APPROACH  \n",
    "**List Creation:** The list `numbers` is initialized with string representations of the numbers from '1' to '10'.  \n",
    "**Slicing:**  \n",
    "- The first five numbers are accessed using the slice notation `numbers[:5]`, which retrieves elements from the beginning of the list up to (but not including) index 5.  \n",
    "- The last five numbers are accessed using `numbers[:-5]`, which retrieves elements from the start of the list up to (but not including) the last five elements.  \n",
    "- A specific range of items from index 2 to index 7 is accessed using the slice `numbers[2:7]`, which includes elements from index 2 to index 6.  \n",
    "**Output:** The results are printed, showing the first five numbers, the last five numbers, and the items from index 2 to 7.  \n",
    "\n",
    "### LEARNING  \n",
    "**List Slicing:** We learned how to use list slicing in Python to access specific portions of a list easily. Slicing is a powerful feature that allows for flexible data retrieval without the need for loops.  \n",
    "**Understanding Indices:** The code illustrates how Python indexing works, including how to use positive and negative indices to navigate through lists.  \n"
   ]
  },
  {
   "cell_type": "code",
   "execution_count": null,
   "metadata": {},
   "outputs": [
    {
     "ename": "",
     "evalue": "",
     "output_type": "error",
     "traceback": [
      "\u001b[1;31mRunning cells with 'Python 3.12.5' requires the ipykernel package.\n",
      "\u001b[1;31mRun the following command to install 'ipykernel' into the Python environment. \n",
      "\u001b[1;31mCommand: '/opt/homebrew/bin/python3 -m pip install ipykernel -U --user --force-reinstall'"
     ]
    }
   ],
   "source": [
    "#EXERCISE 10 LIST SLICING\n",
    "numbers = ['1', '2', '3', '4', '5', '6', '7', '8', '9','10']\n",
    "print(\"First five numbers:\", numbers[:5])\n",
    "print(\"Last five numbers:\", numbers[:-5])\n",
    "print(\"Items from index 2 to 7:\", numbers[2:7])\n",
    "\n"
   ]
  },
  {
   "cell_type": "markdown",
   "metadata": {},
   "source": [
    "### EXPLANATION  \n",
    "In this code, the primary goal is to demonstrate the use of nested lists in Python to manage student data, including names and their respective scores. The code allows the user to:  \n",
    "- **Input** names and scores for multiple students.  \n",
    "- **Store** this information in a nested list structure.  \n",
    "- **Calculate** and display the average score for each student.  \n",
    "\n",
    "### APPROACH  \n",
    "**Input:**  \n",
    "- A loop runs three times to collect the names of three students. Each name is stored in the variable `name`.  \n",
    "- For each student, another loop runs to collect scores for three subjects. Each score is converted to a float and added to the `scores` list.  \n",
    "- Each student's name and their corresponding scores are appended as a sublist to the `students` list, creating a nested list structure.  \n",
    "\n",
    "**Calculating Averages:** After collecting all input data, the code iterates over the `students` list, calculating the average score for each student by summing their scores and dividing by the number of subjects (3).  \n",
    "**Output:** Finally, the average score for each student is printed.  \n",
    "\n",
    "### LEARNING  \n",
    "**Nested Lists:** We learned how to use nested lists in Python to organize related data, in this case, students' names and their scores. This allows for more complex data structures while maintaining clarity.  \n",
    "**Looping for Input:** We practiced using loops to collect input multiple times, enhancing user interaction with the program.  \n",
    "\n"
   ]
  },
  {
   "cell_type": "code",
   "execution_count": null,
   "metadata": {},
   "outputs": [
    {
     "ename": "",
     "evalue": "",
     "output_type": "error",
     "traceback": [
      "\u001b[1;31mRunning cells with 'Python 3.12.5' requires the ipykernel package.\n",
      "\u001b[1;31mRun the following command to install 'ipykernel' into the Python environment. \n",
      "\u001b[1;31mCommand: '/opt/homebrew/bin/python3 -m pip install ipykernel -U --user --force-reinstall'"
     ]
    }
   ],
   "source": [
    "#EXERCISE 11: NESTED LIST\n",
    "students = []\n",
    "for i in range(3):\n",
    "    name = input(\"Enter the name of the student {i + 1}: \")\n",
    "\n",
    "\n",
    "scores = []\n",
    "for j in range(3):\n",
    "    score = float(input(f\"Enter score for subject {j + 1}: \"))\n",
    "    scores.append(score)\n",
    "\n",
    "students.append([name, scores])\n",
    "\n",
    "print(\"student scores: \")\n",
    "for student in students:\n",
    "    name = student[0]\n",
    "    scores= student[1]\n",
    "    average_score = sum(scores) / len(scores)\n",
    "    print(f\"{name}'s average score is \", average_score)"
   ]
  }
 ],
 "metadata": {
  "kernelspec": {
   "display_name": "Python 3",
   "language": "python",
   "name": "python3"
  },
  "language_info": {
   "codemirror_mode": {
    "name": "ipython",
    "version": 3
   },
   "file_extension": ".py",
   "mimetype": "text/x-python",
   "name": "python",
   "nbconvert_exporter": "python",
   "pygments_lexer": "ipython3",
   "version": "3.12.5"
  }
 },
 "nbformat": 4,
 "nbformat_minor": 2
}
